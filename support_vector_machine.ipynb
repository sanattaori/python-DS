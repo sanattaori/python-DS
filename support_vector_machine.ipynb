{
  "nbformat": 4,
  "nbformat_minor": 0,
  "metadata": {
    "colab": {
      "name": "svm.ipynb",
      "version": "0.3.2",
      "provenance": []
    },
    "kernelspec": {
      "name": "python3",
      "display_name": "Python 3"
    }
  },
  "cells": [
    {
      "cell_type": "markdown",
      "metadata": {
        "id": "view-in-github",
        "colab_type": "text"
      },
      "source": [
        "[View in Colaboratory](https://colab.research.google.com/github/sanattaori/python-DS/blob/master/support_vector_machine.ipynb)"
      ]
    },
    {
      "metadata": {
        "id": "gUE6hqWZQhmU",
        "colab_type": "text"
      },
      "cell_type": "markdown",
      "source": [
        "# Support Vector Machine Classification"
      ]
    },
    {
      "metadata": {
        "id": "7DJ0TqLlRXUN",
        "colab_type": "text"
      },
      "cell_type": "markdown",
      "source": [
        "*   *Great for relatively small data sets with fewer outliers.*\n",
        "*   *Used for both classification or regression problems.*\n",
        "\n"
      ]
    },
    {
      "metadata": {
        "id": "T5XvIArbTFKf",
        "colab_type": "text"
      },
      "cell_type": "markdown",
      "source": [
        ">>>> ![alt text](https://docs.opencv.org/2.4/_images/optimal-hyperplane.png)*italicized text*"
      ]
    },
    {
      "metadata": {
        "id": "QuBNOlNISTDc",
        "colab_type": "text"
      },
      "cell_type": "markdown",
      "source": [
        "### Hyper Plane ?"
      ]
    },
    {
      "metadata": {
        "id": "td03guJ8Sa05",
        "colab_type": "text"
      },
      "cell_type": "markdown",
      "source": [
        "*   *A linear decision surface that splits space in two classes*\n",
        "*   *Binary Classifier*\n",
        "*   Points close to decision boundry is support vectors\n",
        "\n"
      ]
    },
    {
      "metadata": {
        "id": "bqEPOjUuVkY2",
        "colab_type": "text"
      },
      "cell_type": "markdown",
      "source": [
        "### Building Support Vector Machine"
      ]
    },
    {
      "metadata": {
        "id": "Xf-5_ODmV1g5",
        "colab_type": "code",
        "colab": {}
      },
      "cell_type": "code",
      "source": [
        "# imports\n",
        "\n",
        "#To help us perform math operations\n",
        "import numpy as np\n",
        "#to plot our data and model visually\n",
        "from matplotlib import pyplot as plt\n",
        "%matplotlib inline"
      ],
      "execution_count": 0,
      "outputs": []
    },
    {
      "metadata": {
        "id": "z9GrGL-WV_6n",
        "colab_type": "code",
        "colab": {}
      },
      "cell_type": "code",
      "source": [
        "#Step 1 - Define our data\n",
        "\n",
        "#Input data - Of the form [X value, Y value, Bias term]\n",
        "X = np.array([\n",
        "    [-2,4,-1],\n",
        "    [4,1,-1],\n",
        "    [1, 6, -1],\n",
        "    [2, 4, -1],\n",
        "    [6, 2, -1],\n",
        "])\n",
        "\n",
        "#Associated output labels - First 2 examples are labeled '-1' and last 3 are labeled '+1'\n",
        "y = np.array([-1,-1,1,1,1])"
      ],
      "execution_count": 0,
      "outputs": []
    },
    {
      "metadata": {
        "id": "M2LyeXjAWH9u",
        "colab_type": "code",
        "colab": {
          "base_uri": "https://localhost:8080/",
          "height": 283
        },
        "outputId": "f33844ec-f82e-466e-93b0-549ede1adf39"
      },
      "cell_type": "code",
      "source": [
        "#lets plot these examples on a 2D graph!\n",
        "#for each example\n",
        "for d, sample in enumerate(X):\n",
        "    # Plot the negative samples (the first 2)\n",
        "    if d < 2:\n",
        "        plt.scatter(sample[0], sample[1], s=120, marker='_', linewidths=2)\n",
        "    # Plot the positive samples (the last 3)\n",
        "    else:\n",
        "        plt.scatter(sample[0], sample[1], s=120, marker='+', linewidths=2)\n",
        "\n",
        "# Print a possible hyperplane, that is seperating the two classes.\n",
        "#we'll two points and draw the line between them (naive guess)\n",
        "plt.plot([-2,6],[6,0.5])"
      ],
      "execution_count": 3,
      "outputs": [
        {
          "output_type": "execute_result",
          "data": {
            "text/plain": [
              "[<matplotlib.lines.Line2D at 0x7ff2a355e668>]"
            ]
          },
          "metadata": {
            "tags": []
          },
          "execution_count": 3
        },
        {
          "output_type": "display_data",
          "data": {
            "image/png": "[encoded data removed]",
            "text/plain": [
              "<matplotlib.figure.Figure at 0x7ff2a355e6a0>"
            ]
          },
          "metadata": {
            "tags": []
          }
        }
      ]
    },
    {
      "metadata": {
        "id": "JERBJ88MWSMG",
        "colab_type": "text"
      },
      "cell_type": "markdown",
      "source": [
        "#### Define our loss function"
      ]
    },
    {
      "metadata": {
        "id": "7kRQeYqgXZ-3",
        "colab_type": "text"
      },
      "cell_type": "markdown",
      "source": [
        "**The hinge loss**\n",
        "\n",
        "![alt text](https://camo.githubusercontent.com/037d9b87e5f7049bf61268e7ab27caa3345d1972/687474703a2f2f692e696d6775722e636f6d2f4f7a43777a794e2e706e67)"
      ]
    },
    {
      "metadata": {
        "id": "OTAM7imIXnKT",
        "colab_type": "text"
      },
      "cell_type": "markdown",
      "source": [
        "![alt text](https://camo.githubusercontent.com/c971927c2a57b8dcd7e8dc6a1fee81eaa10b9a63/687474703a2f2f692e696d6775722e636f6d2f465a374a6347332e706e67)\n",
        "\n",
        "**Objective Function**\n",
        "\n",
        "![alt text](https://camo.githubusercontent.com/56e9ded32847a76adb327f31ca9580cd2d5b1d05/687474703a2f2f692e696d6775722e636f6d2f49354e4e7534342e706e67)\n",
        "\n",
        "**minimize our loss/optimize for our objective (Gradient Descent)**\n",
        "\n",
        "![alt text](https://camo.githubusercontent.com/03ab7412dff32425b1b2bec970a2da39c7e96a6e/687474703a2f2f692e696d6775722e636f6d2f36754b33426e482e706e67)\n",
        "\n",
        "**Update rule for our weights (misclassified)**\n",
        "\n",
        "![alt text](https://camo.githubusercontent.com/fbb72e96572184e6ea966da28431067694b7a20c/687474703a2f2f692e696d6775722e636f6d2f726b645070545a2e706e67)\n",
        "\n",
        "**Update rule for our weights (correctly classified)**\n",
        "\n",
        "![alt text](https://camo.githubusercontent.com/dc310263c6a79f590c7c3043ee077738479c9668/687474703a2f2f692e696d6775722e636f6d2f78544b62765a362e706e67)"
      ]
    },
    {
      "metadata": {
        "id": "7-NLBmvZXlRB",
        "colab_type": "code",
        "colab": {}
      },
      "cell_type": "code",
      "source": [
        "# perform gradient descent to learn the seperating hyperplane between both classes\n",
        "\n",
        "def svm_sgd_plot(X, Y):\n",
        "    #Initialize our SVMs weight vector with zeros (3 values)\n",
        "    w = np.zeros(len(X[0]))\n",
        "    #The learning rate\n",
        "    eta = 1\n",
        "    #how many iterations to train for\n",
        "    epochs = 100000\n",
        "    #store misclassifications so we can plot how they change over time\n",
        "    errors = []\n",
        "\n",
        "    #training part, gradient descent part\n",
        "    for epoch in range(1,epochs):\n",
        "        error = 0\n",
        "        for i, x in enumerate(X):\n",
        "            #misclassification\n",
        "            if (Y[i]*np.dot(X[i], w)) < 1:\n",
        "                #misclassified update for ours weights\n",
        "                w = w + eta * ( (X[i] * Y[i]) + (-2  *(1/epoch)* w) )\n",
        "                error = 1\n",
        "            else:\n",
        "                #correct classification, update our weights\n",
        "                w = w + eta * (-2  *(1/epoch)* w)\n",
        "        errors.append(error)\n",
        "        \n",
        "\n",
        "    #lets plot the rate of classification errors during training for our SVM\n",
        "    plt.plot(errors, '|')\n",
        "    plt.ylim(0.5,1.5)\n",
        "    plt.axes().set_yticklabels([])\n",
        "    plt.xlabel('Epoch')\n",
        "    plt.ylabel('Misclassified')\n",
        "    plt.show()\n",
        "    \n",
        "    return w"
      ],
      "execution_count": 0,
      "outputs": []
    },
    {
      "metadata": {
        "id": "7fr5BA-5YmUi",
        "colab_type": "code",
        "colab": {
          "base_uri": "https://localhost:8080/",
          "height": 602
        },
        "outputId": "ba524d8e-bc33-44e3-e25f-5c37dbb9d9a0"
      },
      "cell_type": "code",
      "source": [
        "w = svm_sgd_plot(X,y)\n",
        "\n",
        "for d, sample in enumerate(X):\n",
        "    # Plot the negative samples\n",
        "    if d < 2:\n",
        "        plt.scatter(sample[0], sample[1], s=120, marker='_', linewidths=2)\n",
        "    # Plot the positive samples\n",
        "    else:\n",
        "        plt.scatter(sample[0], sample[1], s=120, marker='+', linewidths=2)\n",
        "\n",
        "# Add our test samples\n",
        "plt.scatter(2,2, s=120, marker='_', linewidths=2, color='yellow')\n",
        "plt.scatter(4,3, s=120, marker='+', linewidths=2, color='blue')\n",
        "\n",
        "# Print the hyperplane calculated by svm_sgd()\n",
        "x2=[w[0],w[1],-w[1],w[0]]\n",
        "x3=[w[0],w[1],w[1],-w[0]]\n",
        "\n",
        "x2x3 =np.array([x2,x3])\n",
        "X,Y,U,V = zip(*x2x3)\n",
        "ax = plt.gca()\n",
        "ax.quiver(X,Y,U,V,scale=1, color='blue')"
      ],
      "execution_count": 5,
      "outputs": [
        {
          "output_type": "stream",
          "text": [
            "/usr/local/lib/python3.6/dist-packages/matplotlib/cbook/deprecation.py:106: MatplotlibDeprecationWarning: Adding an axes using the same arguments as a previous axes currently reuses the earlier instance.  In a future version, a new instance will always be created and returned.  Meanwhile, this warning can be suppressed, and the future behavior ensured, by passing a unique label to each axes instance.\n",
            "  warnings.warn(message, mplDeprecation, stacklevel=1)\n"
          ],
          "name": "stderr"
        },
        {
          "output_type": "display_data",
          "data": {
            "image/png": "[encoded data removed]",
            "text/plain": [
              "<matplotlib.figure.Figure at 0x7ff2a1476f60>"
            ]
          },
          "metadata": {
            "tags": []
          }
        },
        {
          "output_type": "execute_result",
          "data": {
            "text/plain": [
              "<matplotlib.quiver.Quiver at 0x7ff2a1369d30>"
            ]
          },
          "metadata": {
            "tags": []
          },
          "execution_count": 5
        },
        {
          "output_type": "display_data",
          "data": {
            "image/png": "[encoded data removed]",
            "text/plain": [
              "<matplotlib.figure.Figure at 0x7ff2a1461630>"
            ]
          },
          "metadata": {
            "tags": []
          }
        }
      ]
    },
    {
      "metadata": {
        "id": "BFha1JHFYre4",
        "colab_type": "code",
        "colab": {}
      },
      "cell_type": "code",
      "source": [
        ""
      ],
      "execution_count": 0,
      "outputs": []
    }
  ]
}